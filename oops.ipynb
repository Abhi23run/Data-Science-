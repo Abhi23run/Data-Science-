{
  "nbformat": 4,
  "nbformat_minor": 0,
  "metadata": {
    "colab": {
      "name": "oops.ipynb",
      "provenance": [],
      "authorship_tag": "ABX9TyNH778P8JebkKKiieza6d7M",
      "include_colab_link": true
    },
    "kernelspec": {
      "name": "python3",
      "display_name": "Python 3"
    },
    "language_info": {
      "name": "python"
    }
  },
  "cells": [
    {
      "cell_type": "markdown",
      "metadata": {
        "id": "view-in-github",
        "colab_type": "text"
      },
      "source": [
        "<a href=\"https://colab.research.google.com/github/Abhi23run/Data-Science-/blob/master/oops.ipynb\" target=\"_parent\"><img src=\"https://colab.research.google.com/assets/colab-badge.svg\" alt=\"Open In Colab\"/></a>"
      ]
    },
    {
      "cell_type": "code",
      "execution_count": 70,
      "metadata": {
        "id": "zd8713qFkXyr"
      },
      "outputs": [],
      "source": [
        "import pandas as pd\n",
        "import numpy as np\n",
        "from datetime import datetime\n",
        "from pprint import pprint"
      ]
    },
    {
      "cell_type": "markdown",
      "source": [
        "**Creating a Student class with one class attribute and one method**"
      ],
      "metadata": {
        "id": "wJEmSYavulyf"
      }
    },
    {
      "cell_type": "code",
      "source": [
        "class Student:\n",
        "  salary=10_000\n",
        "  def __init__(self,name,gender,dob):\n",
        "    self.name=name\n",
        "    self.gender=gender\n",
        "    self.dob=dob\n",
        "    \n",
        "  def age_fn(self):\n",
        "    \"\"\"This function takes string input as dob and yields out the age of the patient\"\"\"\n",
        "    self.age=datetime.now().year-int(self.dob.split(\"-\")[0])\n",
        "    print(f\"Age of {self.name} is {self.age}\")\n"
      ],
      "metadata": {
        "id": "4qn3gGC2kiNW"
      },
      "execution_count": 71,
      "outputs": []
    },
    {
      "cell_type": "markdown",
      "source": [
        "**Creating 2 instances of the above Student class**"
      ],
      "metadata": {
        "id": "JMeTc0m6vxjS"
      }
    },
    {
      "cell_type": "code",
      "source": [
        "student_1=Student('s1','M','2007-01-01')\n",
        "student_2=Student('s2','M','2010-09-01')"
      ],
      "metadata": {
        "id": "x78gM9CzpdLB"
      },
      "execution_count": 72,
      "outputs": []
    },
    {
      "cell_type": "markdown",
      "source": [
        "**Printing the list of attributes and modules in Student Class and an instance of that class**"
      ],
      "metadata": {
        "id": "EbSxHuazwWy3"
      }
    },
    {
      "cell_type": "code",
      "source": [
        "# Note : Student class has one function/module (age_fn()) and one class variable/attribute (salary)\n",
        "print([name for name in dir(Student) if '__' not in name])"
      ],
      "metadata": {
        "colab": {
          "base_uri": "https://localhost:8080/"
        },
        "id": "SCm4xLjRq1G9",
        "outputId": "cfa84d5e-fafa-4952-c8db-90f921ad1c97"
      },
      "execution_count": 73,
      "outputs": [
        {
          "output_type": "stream",
          "name": "stdout",
          "text": [
            "['age_fn', 'salary']\n"
          ]
        }
      ]
    },
    {
      "cell_type": "code",
      "source": [
        "# Note : Instance of the student class has one function/module(age_fn()) and 4 attributes (3 input params and 1 class variable)\n",
        "print([name for name in dir(student_1) if '__' not in name])"
      ],
      "metadata": {
        "colab": {
          "base_uri": "https://localhost:8080/"
        },
        "id": "qSGJ8R7vwVQn",
        "outputId": "dc1c52eb-b1a0-4c31-a4a0-86127ca18081"
      },
      "execution_count": 74,
      "outputs": [
        {
          "output_type": "stream",
          "name": "stdout",
          "text": [
            "['age_fn', 'dob', 'gender', 'name', 'salary']\n"
          ]
        }
      ]
    },
    {
      "cell_type": "markdown",
      "source": [
        "#### **Our main use case here is to identify which all are attributes and which all are methods (This might be known beforehand for other modules and classes**"
      ],
      "metadata": {
        "id": "2bzuf3WExODT"
      }
    },
    {
      "cell_type": "code",
      "source": [
        "#getattr function comes to our rescue here as it gives us the info and underlying value \n",
        "print(\"Instance of class\")\n",
        "pprint([(name,getattr(student_1,name)) for name in dir(student_1) if '__' not in name])\n",
        "print(\"Class\")\n",
        "pprint([(name,getattr(Student,name)) for name in dir(Student) if '__' not in name])"
      ],
      "metadata": {
        "colab": {
          "base_uri": "https://localhost:8080/"
        },
        "id": "QQ0yvNP5q3vp",
        "outputId": "38f8d728-2d58-4a15-8b77-5c0f21db36f5"
      },
      "execution_count": 75,
      "outputs": [
        {
          "output_type": "stream",
          "name": "stdout",
          "text": [
            "Instance of class\n",
            "[('age_fn',\n",
            "  <bound method Student.age_fn of <__main__.Student object at 0x7f46143d7890>>),\n",
            " ('dob', '2007-01-01'),\n",
            " ('gender', 'M'),\n",
            " ('name', 's1'),\n",
            " ('salary', 10000)]\n",
            "Class\n",
            "[('age_fn', <function Student.age_fn at 0x7f4614336440>), ('salary', 10000)]\n"
          ]
        }
      ]
    },
    {
      "cell_type": "code",
      "source": [
        ""
      ],
      "metadata": {
        "id": "rKW9IH8qyckW"
      },
      "execution_count": null,
      "outputs": []
    }
  ]
}