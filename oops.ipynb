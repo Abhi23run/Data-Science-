{
  "nbformat": 4,
  "nbformat_minor": 0,
  "metadata": {
    "colab": {
      "name": "oops.ipynb",
      "provenance": [],
      "authorship_tag": "ABX9TyMURSaLk3obwuJmb2x0+Dol",
      "include_colab_link": true
    },
    "kernelspec": {
      "name": "python3",
      "display_name": "Python 3"
    },
    "language_info": {
      "name": "python"
    }
  },
  "cells": [
    {
      "cell_type": "markdown",
      "metadata": {
        "id": "view-in-github",
        "colab_type": "text"
      },
      "source": [
        "<a href=\"https://colab.research.google.com/github/Abhi23run/Data-Science-/blob/master/oops.ipynb\" target=\"_parent\"><img src=\"https://colab.research.google.com/assets/colab-badge.svg\" alt=\"Open In Colab\"/></a>"
      ]
    },
    {
      "cell_type": "code",
      "execution_count": 26,
      "metadata": {
        "id": "zd8713qFkXyr"
      },
      "outputs": [],
      "source": [
        "import pandas as pd\n",
        "import numpy as np\n",
        "from datetime import datetime"
      ]
    },
    {
      "cell_type": "markdown",
      "source": [
        "**Creating a Student class with one class attribute and one method**"
      ],
      "metadata": {
        "id": "wJEmSYavulyf"
      }
    },
    {
      "cell_type": "code",
      "source": [
        "class Student:\n",
        "  salary=10_000\n",
        "  def __init__(self,name,gender,dob):\n",
        "    self.name=name\n",
        "    self.gender=gender\n",
        "    self.dob=dob\n",
        "    \n",
        "  def age_fn(self):\n",
        "    \"\"\"This function takes string input as dob and yields out the age of the patient\"\"\"\n",
        "    self.age=datetime.now().year-int(self.dob.split(\"-\")[0])\n",
        "    print(f\"Age of {self.name} is {self.age}\")\n"
      ],
      "metadata": {
        "id": "4qn3gGC2kiNW"
      },
      "execution_count": 37,
      "outputs": []
    },
    {
      "cell_type": "code",
      "source": [
        "student_1=Student('Abhinav','M','1997-01-01')\n",
        "student_2=Student('Aryan','M','2002-10-28')"
      ],
      "metadata": {
        "id": "x78gM9CzpdLB"
      },
      "execution_count": 38,
      "outputs": []
    },
    {
      "cell_type": "code",
      "source": [
        "student_1.salary"
      ],
      "metadata": {
        "colab": {
          "base_uri": "https://localhost:8080/"
        },
        "id": "SCm4xLjRq1G9",
        "outputId": "e719226c-42fc-4018-915d-eefeebcb5dff"
      },
      "execution_count": 40,
      "outputs": [
        {
          "output_type": "execute_result",
          "data": {
            "text/plain": [
              "10000"
            ]
          },
          "metadata": {},
          "execution_count": 40
        }
      ]
    },
    {
      "cell_type": "code",
      "source": [
        "[(name,getattr(student_1,name)) for name in dir(student_1) if '__' not in name]"
      ],
      "metadata": {
        "colab": {
          "base_uri": "https://localhost:8080/"
        },
        "id": "QQ0yvNP5q3vp",
        "outputId": "3405a22b-ee35-4f4f-eca7-cfc69cac05b5"
      },
      "execution_count": 55,
      "outputs": [
        {
          "output_type": "execute_result",
          "data": {
            "text/plain": [
              "[('age_fn',\n",
              "  <bound method Student.age_fn of <__main__.Student object at 0x7f46143c8650>>),\n",
              " ('dob', '1997-01-01'),\n",
              " ('gender', 'M'),\n",
              " ('name', 'Abhinav'),\n",
              " ('salary', 10000)]"
            ]
          },
          "metadata": {},
          "execution_count": 55
        }
      ]
    },
    {
      "cell_type": "code",
      "source": [
        "n='__friend'\n",
        "'_' in n"
      ],
      "metadata": {
        "colab": {
          "base_uri": "https://localhost:8080/"
        },
        "id": "tsUoGfHisJkm",
        "outputId": "0f917a80-6b5b-4710-836f-8ff86b623004"
      },
      "execution_count": 49,
      "outputs": [
        {
          "output_type": "execute_result",
          "data": {
            "text/plain": [
              "True"
            ]
          },
          "metadata": {},
          "execution_count": 49
        }
      ]
    },
    {
      "cell_type": "code",
      "source": [
        ""
      ],
      "metadata": {
        "colab": {
          "base_uri": "https://localhost:8080/"
        },
        "id": "V4ori-3vtdmB",
        "outputId": "864726e1-ead0-475f-ece3-5b3339466b50"
      },
      "execution_count": 48,
      "outputs": [
        {
          "output_type": "stream",
          "name": "stdout",
          "text": [
            "Object `a.contains` not found.\n"
          ]
        }
      ]
    },
    {
      "cell_type": "code",
      "source": [
        ""
      ],
      "metadata": {
        "id": "0dpcz5NStf_1"
      },
      "execution_count": null,
      "outputs": []
    }
  ]
}