{
  "cells": [
    {
      "cell_type": "markdown",
      "metadata": {
        "id": "view-in-github",
        "colab_type": "text"
      },
      "source": [
        "<a href=\"https://colab.research.google.com/github/Abhi23run/Data-Science-/blob/master/Numpy.ipynb\" target=\"_parent\"><img src=\"https://colab.research.google.com/assets/colab-badge.svg\" alt=\"Open In Colab\"/></a>"
      ]
    },
    {
      "cell_type": "code",
      "execution_count": null,
      "metadata": {
        "id": "dsmGVKEYj-i-"
      },
      "outputs": [],
      "source": [
        "def sum(x,y):\n",
        "    \"\"\"\n",
        "    This function ret Azurns the sum of 2 numbers \n",
        "    \"\"\"\n",
        "    print(f\"sum of the 2 numbers is {x+y:.2f}\")"
      ]
    },
    {
      "cell_type": "code",
      "execution_count": null,
      "metadata": {
        "id": "bb-DAAtwj-jD",
        "outputId": "9051557e-2cda-4226-81c1-e37017af6435"
      },
      "outputs": [
        {
          "name": "stdout",
          "output_type": "stream",
          "text": [
            "sum of the 2 numbers is 5.66\n"
          ]
        }
      ],
      "source": [
        "k=sum(2.459,3.2) '"
      ]
    },
    {
      "cell_type": "code",
      "execution_count": null,
      "metadata": {
        "id": "RiEebiMHj-jE",
        "outputId": "b545290c-8d90-4545-9974-5e0a03c3dde4"
      },
      "outputs": [
        {
          "name": "stdout",
          "output_type": "stream",
          "text": [
            "None\n"
          ]
        }
      ],
      "source": [
        "print(k)"
      ]
    },
    {
      "cell_type": "code",
      "execution_count": null,
      "metadata": {
        "id": "FoJMxKn2j-jF"
      },
      "outputs": [],
      "source": [
        "s=\"abhinav\""
      ]
    },
    {
      "cell_type": "code",
      "execution_count": null,
      "metadata": {
        "id": "PBY_QIWEj-jF"
      },
      "outputs": [],
      "source": [
        "a,b,*_=s"
      ]
    },
    {
      "cell_type": "code",
      "execution_count": null,
      "metadata": {
        "id": "_sppt3ckj-jG",
        "outputId": "a26f973a-42f9-4778-9e37-3defc18f020c"
      },
      "outputs": [
        {
          "data": {
            "text/plain": [
              "'h:i:n:a:v'"
            ]
          },
          "execution_count": 6,
          "metadata": {},
          "output_type": "execute_result"
        }
      ],
      "source": [
        "':'.join(_)"
      ]
    },
    {
      "cell_type": "code",
      "execution_count": null,
      "metadata": {
        "id": "FIEeomF-j-jG"
      },
      "outputs": [],
      "source": [
        "players=[[\"rohit\",\"virat\",\"shikhar\"],[\"warner\",\"aaron\",\"maxwell\"]]"
      ]
    },
    {
      "cell_type": "code",
      "execution_count": null,
      "metadata": {
        "id": "NEnfdlsvj-jG",
        "outputId": "4d0025e3-f54a-4b5c-bc6a-7cabb3fcfd92"
      },
      "outputs": [
        {
          "data": {
            "text/plain": [
              "['aaron']"
            ]
          },
          "execution_count": 8,
          "metadata": {},
          "output_type": "execute_result"
        }
      ],
      "source": [
        "[k for i in players for k in i if k.count(\"a\")>1]"
      ]
    },
    {
      "cell_type": "code",
      "execution_count": null,
      "metadata": {
        "id": "OISIXKidj-jH"
      },
      "outputs": [],
      "source": [
        "a=2\n",
        "def transf():\n",
        "    #global a\n",
        "    a=3"
      ]
    },
    {
      "cell_type": "code",
      "execution_count": null,
      "metadata": {
        "id": "qkwxGG7Vj-jH"
      },
      "outputs": [],
      "source": [
        "transf()"
      ]
    },
    {
      "cell_type": "code",
      "execution_count": null,
      "metadata": {
        "id": "t5mClysMj-jI",
        "outputId": "ebf910e7-8cce-45f9-87dd-51ac5caad222"
      },
      "outputs": [
        {
          "data": {
            "text/plain": [
              "2"
            ]
          },
          "execution_count": 11,
          "metadata": {},
          "output_type": "execute_result"
        }
      ],
      "source": [
        "a"
      ]
    },
    {
      "cell_type": "code",
      "execution_count": null,
      "metadata": {
        "id": "uewRK9sXj-jI"
      },
      "outputs": [],
      "source": [
        "states = [\"   Alabama \", \"Georgia!\", \"Georgia\", \"georgia\", \"FlOrIda\",  \"south   carolina##\", \"West virginia?\"]"
      ]
    },
    {
      "cell_type": "code",
      "execution_count": null,
      "metadata": {
        "id": "N_rOnLrrj-jJ"
      },
      "outputs": [],
      "source": [
        "states"
      ]
    },
    {
      "cell_type": "code",
      "execution_count": null,
      "metadata": {
        "id": "hoAaT_BAj-jJ"
      },
      "outputs": [],
      "source": [
        "def squares(n=10):\n",
        "    for i in range(n+1):\n",
        "        yield i**2"
      ]
    },
    {
      "cell_type": "code",
      "execution_count": null,
      "metadata": {
        "id": "DWLhXMGgj-jJ"
      },
      "outputs": [],
      "source": [
        "gen=squares()"
      ]
    },
    {
      "cell_type": "code",
      "execution_count": null,
      "metadata": {
        "id": "Dr3lcJubj-jK",
        "outputId": "bafb29d7-2fd3-436d-8cf7-32699c17e3cb"
      },
      "outputs": [
        {
          "data": {
            "text/plain": [
              "<generator object squares at 0x124eabdd0>"
            ]
          },
          "execution_count": 9,
          "metadata": {},
          "output_type": "execute_result"
        }
      ],
      "source": [
        "gen"
      ]
    },
    {
      "cell_type": "code",
      "execution_count": null,
      "metadata": {
        "id": "z7yd6WiEj-jK",
        "outputId": "56576cfd-4e2a-4934-e472-b707a1899080"
      },
      "outputs": [
        {
          "data": {
            "text/plain": [
              "4"
            ]
          },
          "execution_count": 12,
          "metadata": {},
          "output_type": "execute_result"
        }
      ],
      "source": [
        "next(gen)"
      ]
    },
    {
      "cell_type": "code",
      "execution_count": null,
      "metadata": {
        "id": "aBHTqdRlj-jL"
      },
      "outputs": [],
      "source": [
        "gen_1=((i,i**2) for i in range(5))"
      ]
    },
    {
      "cell_type": "code",
      "execution_count": null,
      "metadata": {
        "id": "9MvezoGuj-jL",
        "outputId": "882e7c58-b70a-4bd5-d78d-adf400324761"
      },
      "outputs": [
        {
          "data": {
            "text/plain": [
              "{1: 1, 2: 2}"
            ]
          },
          "execution_count": 23,
          "metadata": {},
          "output_type": "execute_result"
        }
      ],
      "source": [
        "dict([(1,1),(2,2)])"
      ]
    },
    {
      "cell_type": "markdown",
      "metadata": {
        "id": "3qb4GcLmj-jL"
      },
      "source": [
        "# Itertools module for generators "
      ]
    },
    {
      "cell_type": "code",
      "execution_count": null,
      "metadata": {
        "id": "lAdq07wfj-jN"
      },
      "outputs": [],
      "source": [
        "import itertools"
      ]
    },
    {
      "cell_type": "code",
      "execution_count": null,
      "metadata": {
        "id": "dZc5gwmaj-jN"
      },
      "outputs": [],
      "source": [
        "k=itertools.groupby([\"Rohit\",\"Rahul\",\"Pant\",\"Dhoni\"],key=lambda x:x.count(\"h\"))"
      ]
    },
    {
      "cell_type": "code",
      "execution_count": null,
      "metadata": {
        "id": "GpDuKeGyj-jN",
        "outputId": "5230bbed-986a-494c-9331-2d2e5ba1b5e6"
      },
      "outputs": [
        {
          "name": "stdout",
          "output_type": "stream",
          "text": [
            "1 ['Rohit', 'Rahul']\n",
            "0 ['Pant']\n",
            "1 ['Dhoni']\n"
          ]
        }
      ],
      "source": [
        "for i,j in k:\n",
        "    print(i,list(j))"
      ]
    },
    {
      "cell_type": "code",
      "execution_count": null,
      "metadata": {
        "id": "xEPenhhOj-jO",
        "outputId": "3d6ffe70-1947-47c5-b13f-975d9fdf28a9"
      },
      "outputs": [
        {
          "data": {
            "text/plain": [
              "[(1, 2), (1, 3), (2, 3)]"
            ]
          },
          "execution_count": 57,
          "metadata": {},
          "output_type": "execute_result"
        }
      ],
      "source": [
        "list(itertools.combinations([1,2,3],2))"
      ]
    },
    {
      "cell_type": "code",
      "execution_count": null,
      "metadata": {
        "id": "WaVg3TQ8j-jO"
      },
      "outputs": [],
      "source": [
        "list(itertools.permutations([1,2,3],2))"
      ]
    },
    {
      "cell_type": "markdown",
      "metadata": {
        "id": "RJ-s3cOSj-jO"
      },
      "source": [
        "# Intro to Numpy"
      ]
    },
    {
      "cell_type": "code",
      "execution_count": null,
      "metadata": {
        "id": "6PjiE4l-j-jP"
      },
      "outputs": [],
      "source": [
        "import numpy as np"
      ]
    },
    {
      "cell_type": "code",
      "execution_count": null,
      "metadata": {
        "id": "q03HHxISj-jP"
      },
      "outputs": [],
      "source": [
        "a=np.array([1,2,3])\n",
        "a=a.astype(np.float64)"
      ]
    },
    {
      "cell_type": "code",
      "execution_count": null,
      "metadata": {
        "id": "FGht8e84j-jP",
        "outputId": "e50f6728-9aa8-46c4-cfb0-40ee940eff28"
      },
      "outputs": [
        {
          "data": {
            "text/plain": [
              "dtype('float64')"
            ]
          },
          "execution_count": 8,
          "metadata": {},
          "output_type": "execute_result"
        }
      ],
      "source": [
        "a.dtype"
      ]
    },
    {
      "cell_type": "code",
      "execution_count": null,
      "metadata": {
        "id": "BoV8yXibj-jP",
        "outputId": "443e144f-9998-4782-f927-dec004d46b22"
      },
      "outputs": [
        {
          "data": {
            "text/plain": [
              "array([1., 2., 3.])"
            ]
          },
          "execution_count": 9,
          "metadata": {},
          "output_type": "execute_result"
        }
      ],
      "source": [
        "a"
      ]
    },
    {
      "cell_type": "code",
      "execution_count": null,
      "metadata": {
        "id": "GFvpYePXj-jQ",
        "outputId": "1fdd1c8a-38f6-4eb4-a2f6-459ff8f4a833"
      },
      "outputs": [
        {
          "name": "stdout",
          "output_type": "stream",
          "text": [
            "275 ns ± 0.896 ns per loop (mean ± std. dev. of 7 runs, 1,000,000 loops each)\n"
          ]
        }
      ],
      "source": [
        "%timeit a*a"
      ]
    },
    {
      "cell_type": "code",
      "execution_count": null,
      "metadata": {
        "id": "Qynbu-Okj-jQ",
        "outputId": "92140bc6-5d4c-4641-ebb4-52839b861ccf"
      },
      "outputs": [
        {
          "data": {
            "text/plain": [
              "array([1., 4., 9.])"
            ]
          },
          "execution_count": 12,
          "metadata": {},
          "output_type": "execute_result"
        }
      ],
      "source": [
        "a*a"
      ]
    },
    {
      "cell_type": "code",
      "execution_count": null,
      "metadata": {
        "id": "FG8rHBB6j-jR",
        "outputId": "7110eea2-e2c2-4d82-8c86-7e09be9b683e"
      },
      "outputs": [
        {
          "data": {
            "text/plain": [
              "(2, 2)"
            ]
          },
          "execution_count": 15,
          "metadata": {},
          "output_type": "execute_result"
        }
      ],
      "source": [
        "np.eye(2).shape"
      ]
    },
    {
      "cell_type": "code",
      "execution_count": null,
      "metadata": {
        "id": "pJcPIclWj-jR"
      },
      "outputs": [],
      "source": [
        "a=np.arange(3)"
      ]
    },
    {
      "cell_type": "code",
      "execution_count": null,
      "metadata": {
        "id": "6p6QMSTmj-jS",
        "outputId": "965ab30d-b130-4c98-f463-e858e1498c44"
      },
      "outputs": [
        {
          "data": {
            "text/plain": [
              "dtype('int64')"
            ]
          },
          "execution_count": 17,
          "metadata": {},
          "output_type": "execute_result"
        }
      ],
      "source": [
        "a.dtype"
      ]
    },
    {
      "cell_type": "code",
      "execution_count": null,
      "metadata": {
        "id": "sncAkK6Vj-jT"
      },
      "outputs": [],
      "source": [
        "b=np.array([1,2,3],dtype='float32')"
      ]
    },
    {
      "cell_type": "code",
      "execution_count": null,
      "metadata": {
        "id": "-vyQj7bEj-jT"
      },
      "outputs": [],
      "source": [
        "a.astype(b.dtype)"
      ]
    },
    {
      "cell_type": "code",
      "execution_count": null,
      "metadata": {
        "id": "MUK5BL9Rj-jT"
      },
      "outputs": [],
      "source": [
        "names=np.array([\"Bob\",\"Ann\",\"Bob\",\"Alex\",\"Ann\",\"Bob\"])"
      ]
    },
    {
      "cell_type": "code",
      "execution_count": null,
      "metadata": {
        "id": "lGf9T7z3j-jU"
      },
      "outputs": [],
      "source": [
        "scores=np.ones((6,2))"
      ]
    },
    {
      "cell_type": "code",
      "execution_count": null,
      "metadata": {
        "id": "qsEdenOuj-jU"
      },
      "outputs": [],
      "source": [
        "scores[3]=7"
      ]
    },
    {
      "cell_type": "code",
      "execution_count": null,
      "metadata": {
        "id": "Im6nMbjAj-jU"
      },
      "outputs": [],
      "source": [
        "scores[:,1:]=2"
      ]
    },
    {
      "cell_type": "code",
      "execution_count": null,
      "metadata": {
        "id": "S5beRgr_j-jV",
        "outputId": "2bb811c4-bcdc-4045-85d7-62f6f726d674"
      },
      "outputs": [
        {
          "data": {
            "text/plain": [
              "array([[1., 2.],\n",
              "       [1., 2.]])"
            ]
          },
          "execution_count": 7,
          "metadata": {},
          "output_type": "execute_result"
        }
      ],
      "source": [
        "scores[names=='Ann']"
      ]
    },
    {
      "cell_type": "code",
      "execution_count": null,
      "metadata": {
        "id": "0CtmEy0xj-jV",
        "outputId": "1397da1c-ecb6-4248-91cb-02827caef084"
      },
      "outputs": [
        {
          "data": {
            "text/plain": [
              "array([[1., 2.],\n",
              "       [1., 2.],\n",
              "       [1., 2.],\n",
              "       [7., 2.],\n",
              "       [1., 2.],\n",
              "       [1., 2.]])"
            ]
          },
          "execution_count": 8,
          "metadata": {},
          "output_type": "execute_result"
        }
      ],
      "source": [
        "scores"
      ]
    },
    {
      "cell_type": "code",
      "execution_count": null,
      "metadata": {
        "id": "M4LQ5Dgjj-jW"
      },
      "outputs": [],
      "source": [
        "# fancy indexing \n",
        "scores[[2,3,5]][:,[1]]"
      ]
    },
    {
      "cell_type": "markdown",
      "metadata": {
        "id": "CU4I3fg1j-jW"
      },
      "source": [
        "## numpy random number generator"
      ]
    },
    {
      "cell_type": "code",
      "execution_count": null,
      "metadata": {
        "id": "yoW_2TVVj-jW"
      },
      "outputs": [],
      "source": [
        "import numpy as np"
      ]
    },
    {
      "cell_type": "code",
      "execution_count": null,
      "metadata": {
        "id": "GuHIKL1mj-jW",
        "outputId": "3444c580-7f0c-47be-c805-521002642009"
      },
      "outputs": [
        {
          "name": "stdout",
          "output_type": "stream",
          "text": [
            "['BitGenerator', 'Generator', 'MT19937', 'PCG64', 'PCG64DXSM', 'Philox', 'RandomState', 'SFC64', 'SeedSequence', '__RandomState_ctor', '__all__', '__builtins__', '__cached__', '__doc__', '__file__', '__loader__', '__name__', '__package__', '__path__', '__spec__', '_bounded_integers', '_common', '_generator', '_mt19937', '_pcg64', '_philox', '_pickle', '_sfc64', 'beta', 'binomial', 'bit_generator', 'bytes', 'chisquare', 'choice', 'default_rng', 'dirichlet', 'exponential', 'f', 'gamma', 'geometric', 'get_state', 'gumbel', 'hypergeometric', 'laplace', 'logistic', 'lognormal', 'logseries', 'mtrand', 'multinomial', 'multivariate_normal', 'negative_binomial', 'noncentral_chisquare', 'noncentral_f', 'normal', 'pareto', 'permutation', 'poisson', 'power', 'rand', 'randint', 'randn', 'random', 'random_integers', 'random_sample', 'ranf', 'rayleigh', 'sample', 'seed', 'set_state', 'shuffle', 'standard_cauchy', 'standard_exponential', 'standard_gamma', 'standard_normal', 'standard_t', 'test', 'triangular', 'uniform', 'vonmises', 'wald', 'weibull', 'zipf']\n"
          ]
        }
      ],
      "source": [
        "print(dir(np.random))"
      ]
    },
    {
      "cell_type": "code",
      "execution_count": null,
      "metadata": {
        "id": "Pv3mCwZsj-jX"
      },
      "outputs": [],
      "source": [
        "rng=np.random.default_rng(1234)"
      ]
    },
    {
      "cell_type": "code",
      "execution_count": null,
      "metadata": {
        "id": "sQSZSOQhj-jX",
        "outputId": "4b8d093f-6e66-49fd-aab4-0e8cda918c67"
      },
      "outputs": [
        {
          "name": "stdout",
          "output_type": "stream",
          "text": [
            "['__class__', '__delattr__', '__dir__', '__doc__', '__eq__', '__format__', '__ge__', '__getattribute__', '__getstate__', '__gt__', '__hash__', '__init__', '__init_subclass__', '__le__', '__lt__', '__ne__', '__new__', '__reduce__', '__reduce_ex__', '__repr__', '__setattr__', '__setstate__', '__sizeof__', '__str__', '__subclasshook__', '_bit_generator', '_poisson_lam_max', 'beta', 'binomial', 'bit_generator', 'bytes', 'chisquare', 'choice', 'dirichlet', 'exponential', 'f', 'gamma', 'geometric', 'gumbel', 'hypergeometric', 'integers', 'laplace', 'logistic', 'lognormal', 'logseries', 'multinomial', 'multivariate_hypergeometric', 'multivariate_normal', 'negative_binomial', 'noncentral_chisquare', 'noncentral_f', 'normal', 'pareto', 'permutation', 'permuted', 'poisson', 'power', 'random', 'rayleigh', 'shuffle', 'standard_cauchy', 'standard_exponential', 'standard_gamma', 'standard_normal', 'standard_t', 'triangular', 'uniform', 'vonmises', 'wald', 'weibull', 'zipf']\n"
          ]
        }
      ],
      "source": [
        "print(dir(rng))"
      ]
    },
    {
      "cell_type": "code",
      "execution_count": null,
      "metadata": {
        "id": "iIG21L1mj-jX",
        "outputId": "6fe3585a-f48c-49f6-cc54-641f2e6a6d14"
      },
      "outputs": [
        {
          "data": {
            "text/plain": [
              "array([[0.11809123, 0.24176629],\n",
              "       [0.31853393, 0.96407925]])"
            ]
          },
          "execution_count": 14,
          "metadata": {},
          "output_type": "execute_result"
        }
      ],
      "source": [
        "rng.uniform(0,1,(2,2))"
      ]
    },
    {
      "cell_type": "code",
      "execution_count": null,
      "metadata": {
        "id": "XsSNYQpyj-jX"
      },
      "outputs": [],
      "source": [
        "a=np.array([1,2,3])\n",
        "b=np.array([2,2,4])"
      ]
    },
    {
      "cell_type": "code",
      "execution_count": null,
      "metadata": {
        "id": "CmcsBWRdj-jX",
        "outputId": "45371a6c-d3f5-4696-e9f4-e90017badc7b"
      },
      "outputs": [
        {
          "data": {
            "text/plain": [
              "array([ 1,  8, 81])"
            ]
          },
          "execution_count": 20,
          "metadata": {},
          "output_type": "execute_result"
        }
      ],
      "source": [
        "np.power(a,b)"
      ]
    },
    {
      "cell_type": "code",
      "execution_count": null,
      "metadata": {
        "id": "_rG7AdXQj-jX"
      },
      "outputs": [],
      "source": [
        "a={1,2,3}\n",
        "b={2,3,4}"
      ]
    },
    {
      "cell_type": "code",
      "execution_count": null,
      "metadata": {
        "id": "wN1FWfA-j-jY",
        "outputId": "2ea24bc1-44d7-46d9-8cb3-fdec7fcde3d9"
      },
      "outputs": [
        {
          "data": {
            "text/plain": [
              "array([False, False, False])"
            ]
          },
          "execution_count": 32,
          "metadata": {},
          "output_type": "execute_result"
        }
      ],
      "source": [
        "np.logical_xor(a,b)"
      ]
    },
    {
      "cell_type": "code",
      "execution_count": null,
      "metadata": {
        "id": "7V7uEf1pj-jY",
        "outputId": "3542687b-e74f-4ea6-ec96-da6bc2efd545"
      },
      "outputs": [
        {
          "data": {
            "text/plain": [
              "array([False, False,  True])"
            ]
          },
          "execution_count": 36,
          "metadata": {},
          "output_type": "execute_result"
        }
      ],
      "source": [
        "a=[1,1,0]\n",
        "b=[1,1,1]\n",
        "np.logical_xor(a,b)"
      ]
    },
    {
      "cell_type": "code",
      "execution_count": null,
      "metadata": {
        "id": "rDob6OnSj-jY",
        "outputId": "39f6c3bf-ba31-4946-b635-e2794a401cbb"
      },
      "outputs": [
        {
          "data": {
            "text/plain": [
              "False"
            ]
          },
          "execution_count": 38,
          "metadata": {},
          "output_type": "execute_result"
        }
      ],
      "source": [
        "3==4"
      ]
    },
    {
      "cell_type": "code",
      "execution_count": null,
      "metadata": {
        "id": "ZT5b0A0pj-jY",
        "outputId": "7ef31c98-26b5-427e-ca10-ba57b2eab3dd"
      },
      "outputs": [
        {
          "data": {
            "text/plain": [
              "(1000,)"
            ]
          },
          "execution_count": 41,
          "metadata": {},
          "output_type": "execute_result"
        }
      ],
      "source": [
        "np.arange(-5,5,0.01)"
      ]
    },
    {
      "cell_type": "code",
      "execution_count": null,
      "metadata": {
        "id": "TavAXKXsj-jY"
      },
      "outputs": [],
      "source": [
        "import numpy as np"
      ]
    },
    {
      "cell_type": "code",
      "execution_count": null,
      "metadata": {
        "id": "3hQFRWuUj-jY"
      },
      "outputs": [],
      "source": [
        "a=np.array([[1,2,3],[4,5,6]])"
      ]
    },
    {
      "cell_type": "code",
      "execution_count": null,
      "metadata": {
        "id": "919VnujIj-jY"
      },
      "outputs": [],
      "source": [
        "i,j=a.shape\n",
        "n_elements=i*j"
      ]
    },
    {
      "cell_type": "code",
      "execution_count": null,
      "metadata": {
        "id": "-hgoYN36j-jY",
        "outputId": "ee5b662d-b3ad-4d8c-affd-ce3f6344a74a"
      },
      "outputs": [
        {
          "data": {
            "text/plain": [
              "6"
            ]
          },
          "execution_count": 21,
          "metadata": {},
          "output_type": "execute_result"
        }
      ],
      "source": [
        "n_elements"
      ]
    },
    {
      "cell_type": "code",
      "execution_count": null,
      "metadata": {
        "id": "dd5BnkA6j-jY"
      },
      "outputs": [],
      "source": [
        "average_mat=a.sum()/n_elements"
      ]
    },
    {
      "cell_type": "code",
      "execution_count": null,
      "metadata": {
        "id": "Bud9Xgtjj-jZ",
        "outputId": "82eba27d-fa12-41d4-fe80-f345fc68ed28"
      },
      "outputs": [
        {
          "data": {
            "text/plain": [
              "array([[-1, -1, -1],\n",
              "       [ 0,  0,  0]])"
            ]
          },
          "execution_count": 34,
          "metadata": {},
          "output_type": "execute_result"
        }
      ],
      "source": [
        "np.where(a>average_mat,1,-1).cumsum(axis=0)"
      ]
    },
    {
      "cell_type": "code",
      "execution_count": null,
      "metadata": {
        "id": "H7A3aAqGj-jZ",
        "outputId": "14dd9952-246e-44ce-b6ba-20edbfaa2129"
      },
      "outputs": [
        {
          "data": {
            "text/plain": [
              "array([False,  True, False])"
            ]
          },
          "execution_count": 38,
          "metadata": {},
          "output_type": "execute_result"
        }
      ],
      "source": [
        "np.in1d(a[a>average_mat],[5])"
      ]
    },
    {
      "cell_type": "code",
      "execution_count": null,
      "metadata": {
        "id": "qrnepaJLj-jZ"
      },
      "outputs": [],
      "source": [
        "ind=['rohit','virat','pant']\n",
        "eng=['root','sam','jos']\n",
        "flag=[1,0,1]\n",
        "np.where(flag,ind,eng)"
      ]
    }
  ],
  "metadata": {
    "kernelspec": {
      "display_name": "Python 3 (ipykernel)",
      "language": "python",
      "name": "python3"
    },
    "language_info": {
      "codemirror_mode": {
        "name": "ipython",
        "version": 3
      },
      "file_extension": ".py",
      "mimetype": "text/x-python",
      "name": "python",
      "nbconvert_exporter": "python",
      "pygments_lexer": "ipython3",
      "version": "3.9.10+"
    },
    "colab": {
      "name": "Numpy.ipynb",
      "provenance": [],
      "include_colab_link": true
    }
  },
  "nbformat": 4,
  "nbformat_minor": 0
}